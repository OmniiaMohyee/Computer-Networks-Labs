{
 "cells": [
  {
   "cell_type": "markdown",
   "metadata": {},
   "source": [
    "### Welcom to Lab4 Queuing algorithms for networking \n",
    "in this lab you will simulate the operating of two of the queuing algorithms used in networking among the QOS techniques, namely the ( weighted fair queuing and first in first serve ) techniques.\n",
    "you will also be able to compare between them using the waiting time metrics.\n",
    "#### please follow the directions below and don't change the functions names or the function parameters.\n",
    "#### fill in the code blocks between the     #your code starts here and  #end of code statements.\n",
    "#### violation to these rules may cause loss of grades."
   ]
  },
  {
   "cell_type": "code",
   "execution_count": 2,
   "metadata": {},
   "outputs": [],
   "source": [
    "'''\n",
    "    this function reads the input file given the file path\n",
    "    and outputs the list of packets \n",
    "    the input file format will be as follows \n",
    "    ==========================================================\n",
    "    line 0   : number of queues(N)\n",
    "    line 1   : wieght for Queue 1\n",
    "    line 2   : wieght for Queue 2\n",
    "    ..........\n",
    "    ..........\n",
    "    line N   : wieght for Queue N\n",
    "    line N+1 : queue_number packet_length packet_arrival_time\n",
    "    line N+2 : queue_number packet_length packet_arrival_time\n",
    "    ..........\n",
    "    ..........\n",
    "    line N+m : queue_number packet_length packet_arrival_time\n",
    "    for example please find attached file test1.txt\n",
    "    ===========================================================\n",
    "    the output of this function should be a list of the packets in any format or order\n",
    "    from your choice as long as it can fit to the next functions without the need to change \n",
    "    their passing parameters\n",
    "    \n",
    "    '''\n",
    "def read_file (file_path): # 2 marks\n",
    "    List_of_packets=[]\n",
    "    #your code starts here\n",
    "    f = open(file_path,\"r\")\n",
    "    n_queues = int(f.readline())\n",
    "    weights = []\n",
    "    #print(n_queues)\n",
    "    for i in range(n_queues):\n",
    "        weights.append(int(f.readline()))\n",
    "    List_of_packets.append(n_queues)\n",
    "    List_of_packets.append(weights)\n",
    "    for i in range(n_queues):\n",
    "        List_of_packets.append([])\n",
    "    while True:\n",
    "        line = f.readline()\n",
    "        if not line:\n",
    "            break\n",
    "        packet = line.split()\n",
    "        for i in range(len(packet)):\n",
    "            packet[i] = int(packet[i])\n",
    "        \n",
    "        List_of_packets[1+packet[0]].append(packet)\n",
    "    #end of code\n",
    "    print(\"done reading file\")\n",
    "    return List_of_packets\n"
   ]
  },
  {
   "cell_type": "code",
   "execution_count": 3,
   "metadata": {},
   "outputs": [
    {
     "name": "stdout",
     "output_type": "stream",
     "text": [
      "done reading file\n",
      "done Weighted_Fair_Queuing\n"
     ]
    },
    {
     "data": {
      "text/plain": [
       "[[1, 2, 0, 1.0],\n",
       " [3, 18, 0, 7.0],\n",
       " [1, 4, 3, 9.0],\n",
       " [2, 5, 4, 14.0],\n",
       " [3, 6, 3, 16.0],\n",
       " [1, 10, 6, 21.0],\n",
       " [2, 3, 4, 24.0],\n",
       " [3, 3, 5, 25.0],\n",
       " [1, 6, 8, 28.0],\n",
       " [2, 2, 7, 30.0],\n",
       " [3, 9, 7, 33.0]]"
      ]
     },
     "execution_count": 3,
     "metadata": {},
     "output_type": "execute_result"
    }
   ],
   "source": [
    "'''\n",
    "    this function takes as an argument the list of packets \n",
    "    and outputs the list of packets after ordering them in their sending order \n",
    "    using the weighted fair queueing algorithm\n",
    "\n",
    "    the output of this function should be a list of the packets in any format or order\n",
    "    from your choice as long as it can fit to the next functions without the need to change \n",
    "    their passing parameters\n",
    "\n",
    "'''\n",
    "def Weighted_Fair_Queuing (List_of_packets):# 3 marks\n",
    "    ordered_packets=[]\n",
    "    #your code starts here\n",
    "    n_queues = List_of_packets[0]\n",
    "    weights = List_of_packets[1]\n",
    "    current = []\n",
    "\n",
    "    total = 0\n",
    "    for i in range(n_queues):\n",
    "        current.append(0)\n",
    "        total += len(List_of_packets[2+i])\n",
    "    flag = True\n",
    "    time = 0\n",
    "    i = 0\n",
    "    while(flag):\n",
    "        for i in range(n_queues):\n",
    "            if(len(List_of_packets[2+i]) > current[i]):\n",
    "                if(List_of_packets[2+i][current[i]][2] <= time):\n",
    "                    time += List_of_packets[2+i][current[i]][1]/weights[List_of_packets[2+i][current[i]][0]-1]\n",
    "                    tmp = List_of_packets[2+i][current[i]].copy()\n",
    "                    tmp.append(time)\n",
    "                    ordered_packets.append(tmp)\n",
    "                    current[i] += 1\n",
    "                    total -= 1\n",
    "        \n",
    "        if(total == 0):\n",
    "            flag = False\n",
    "    #end of code\n",
    "    print(\"done Weighted_Fair_Queuing\")\n",
    "    return ordered_packets\n",
    "l_p = read_file(\"test1.txt\")\n",
    "Weighted_Fair_Queuing(l_p)"
   ]
  },
  {
   "cell_type": "code",
   "execution_count": 4,
   "metadata": {},
   "outputs": [
    {
     "name": "stdout",
     "output_type": "stream",
     "text": [
      "done reading file\n",
      "done First_In_First_Out_Queuing\n"
     ]
    },
    {
     "data": {
      "text/plain": [
       "[[1, 2, 0, 2],\n",
       " [3, 18, 0, 20],\n",
       " [1, 4, 3, 24],\n",
       " [2, 5, 4, 29],\n",
       " [3, 6, 3, 35],\n",
       " [1, 10, 6, 45],\n",
       " [2, 3, 4, 48],\n",
       " [3, 3, 5, 51],\n",
       " [1, 6, 8, 57],\n",
       " [2, 2, 7, 59],\n",
       " [3, 9, 7, 68]]"
      ]
     },
     "execution_count": 4,
     "metadata": {},
     "output_type": "execute_result"
    }
   ],
   "source": [
    "'''\n",
    "    this function takes as an argument the list of packets \n",
    "    and outputs the list of packets after ordering them in their sending order \n",
    "    using the simple first in first serve queuing algorithm\n",
    "\n",
    "    the output of this function should be a list of the packets in any format or order\n",
    "    from your choice as long as it can fit to the next functions without the need to change \n",
    "    their passing parameters\n",
    "\n",
    "'''\n",
    "def First_In_First_Out_Queuing (List_of_packets): # 3 marks\n",
    "    ordered_packets=[]\n",
    "    #your code starts here\n",
    "    n_queues = List_of_packets[0]\n",
    "    current = []\n",
    "    total = 0\n",
    "    for i in range(n_queues):\n",
    "        current.append(0)\n",
    "        total += len(List_of_packets[2+i])\n",
    "    flag = True\n",
    "    time = 0\n",
    "    i = 0\n",
    "    times = []\n",
    "    while(flag):\n",
    "        tmp_flag = False\n",
    "        for i in range(n_queues):\n",
    "            if(len(List_of_packets[2+i]) > current[i]):\n",
    "                if(List_of_packets[2+i][current[i]][2] <= time):\n",
    "                    tmp_flag = True\n",
    "                    time += List_of_packets[2+i][current[i]][1]\n",
    "                    tmp = List_of_packets[2+i][current[i]].copy()\n",
    "                    tmp.append(time)\n",
    "                    ordered_packets.append(tmp)\n",
    "                    current[i] += 1\n",
    "                    times.append(time)\n",
    "                    \n",
    "                    total -= 1\n",
    "        if(not(tmp_flag)):\n",
    "            time += 1\n",
    "        if(total == 0):\n",
    "            flag = False\n",
    "    #end of code\n",
    "    print(\"done First_In_First_Out_Queuing\")\n",
    "    return ordered_packets\n",
    "l_p = read_file(\"test1.txt\")\n",
    "First_In_First_Out_Queuing(l_p)"
   ]
  },
  {
   "cell_type": "code",
   "execution_count": 5,
   "metadata": {},
   "outputs": [],
   "source": [
    "'''\n",
    "    this function takes as an argument the list of packets after ordering them in their sending order, \n",
    "    and outputs the average waiting time for all the packets and the total waiting time.\n",
    "    the waiting time for a single packet= the actual finish sending time - the arrival time.  \n",
    "\n",
    "    the output of this function should only be the print messages.\n",
    "\n",
    "'''\n",
    "def print_statistics(ordered_packets): # 2 marks\n",
    "    avg_wait_time=0\n",
    "    tot_wait_time=0\n",
    "    #your code starts here\n",
    "    for i in range(len(ordered_packets)):\n",
    "        tot_wait_time += (ordered_packets[i][3]-ordered_packets[i][2])\n",
    "    avg_wait_time = tot_wait_time/len(ordered_packets)\n",
    "    #end of code\n",
    "    print(\"average waiting time : \", avg_wait_time)\n",
    "    print(\"total waiting time: \", tot_wait_time)"
   ]
  },
  {
   "cell_type": "code",
   "execution_count": 6,
   "metadata": {},
   "outputs": [],
   "source": [
    "#dont modify this\n",
    "def main(file_path):\n",
    "    List_of_packets=read_file(file_path)\n",
    "    WFQ_ordered_packets=Weighted_Fair_Queuing(List_of_packets)\n",
    "    FIFO_ordered_packets=First_In_First_Out_Queuing(List_of_packets)\n",
    "    print(\"using WFQ: \")\n",
    "    print_statistics(WFQ_ordered_packets)\n",
    "    print(\"using FIFO\")\n",
    "    print_statistics(FIFO_ordered_packets)\n",
    "    return\n",
    "    "
   ]
  },
  {
   "cell_type": "code",
   "execution_count": 7,
   "metadata": {},
   "outputs": [
    {
     "name": "stdout",
     "output_type": "stream",
     "text": [
      "done reading file\n",
      "done Weighted_Fair_Queuing\n",
      "done First_In_First_Out_Queuing\n",
      "using WFQ: \n",
      "average waiting time :  14.636363636363637\n",
      "total waiting time:  161.0\n",
      "using FIFO\n",
      "average waiting time :  35.54545454545455\n",
      "total waiting time:  391\n"
     ]
    }
   ],
   "source": [
    "file_path='test1.txt'\n",
    "main(file_path)"
   ]
  },
  {
   "cell_type": "code",
   "execution_count": null,
   "metadata": {},
   "outputs": [],
   "source": []
  }
 ],
 "metadata": {
  "kernelspec": {
   "display_name": "Python 3",
   "language": "python",
   "name": "python3"
  },
  "language_info": {
   "codemirror_mode": {
    "name": "ipython",
    "version": 3
   },
   "file_extension": ".py",
   "mimetype": "text/x-python",
   "name": "python",
   "nbconvert_exporter": "python",
   "pygments_lexer": "ipython3",
   "version": "3.6.9"
  }
 },
 "nbformat": 4,
 "nbformat_minor": 2
}
