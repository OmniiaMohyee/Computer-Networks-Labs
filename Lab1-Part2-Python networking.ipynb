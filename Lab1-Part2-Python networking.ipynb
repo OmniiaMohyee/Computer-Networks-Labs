{
 "cells": [
  {
   "cell_type": "markdown",
   "metadata": {},
   "source": [
    "---------------------------------------------------------------------------------------------------------------------------\n",
    "Part2\n",
    "---------------------------------------------------------------------------------\n",
    "## python networking "
   ]
  },
  {
   "cell_type": "markdown",
   "metadata": {},
   "source": [
    "###  In this Tutorial you will use the Module \"ipaddress\" that will help you to deal with ip addresses and network prefixes with more  ease.\n",
    "\n",
    " Firstly take a look on the documentation of the module in the pdf file attached, Then perform the following tasks "
   ]
  },
  {
   "cell_type": "code",
   "execution_count": null,
   "metadata": {},
   "outputs": [],
   "source": [
    "#!pip install ipaddress\n",
    "import ipaddress\n",
    "# Code Starts Here \n",
    "# using the ipaddress module\n",
    "# 1-print the number of hosts in the network 192.168.70.0/24 (0.5 mark)\n",
    "# 2- print the network mask(prefix) of the network 192.168.70.0/24 in both formats (0.5 mark)\n",
    "# hint refre to the additional attribute section in the pdf"
   ]
  },
  {
   "cell_type": "code",
   "execution_count": null,
   "metadata": {},
   "outputs": [],
   "source": [
    "# 2-print the hosts in the network 192.168.70.0/24 (0.5 mark)"
   ]
  },
  {
   "cell_type": "code",
   "execution_count": null,
   "metadata": {},
   "outputs": [],
   "source": [
    "# 3-take an ip address from the user and check and prints a message indicating wether\n",
    "# this address belongs to the network 192.168.70.0/24 or not (0.5 mark)"
   ]
  },
  {
   "cell_type": "code",
   "execution_count": null,
   "metadata": {},
   "outputs": [],
   "source": [
    "# 4- define function Routing_Table() (4 marks)\n",
    "# the function returns and (prints) the routing table as a list of networks and relatve egress interfaces\n",
    "# the function should aske the user for the number of required interfaces first \n",
    "# then it asks the user to fill them accordingly \n",
    "# if the user entered the character 'd' as an egress interface then the function set this as default interface \n",
    "# in all cases the routing table should contain a default egress interface\n",
    "# Your Code Starts Here \n",
    "\n",
    "\n",
    "#uncomment this line for function call\n",
    "#Routing_Table()  "
   ]
  },
  {
   "cell_type": "code",
   "execution_count": null,
   "metadata": {},
   "outputs": [],
   "source": [
    "# 5- define function Forward() (4 marks)\n",
    "# the function takes as input the routing table as returend from function Routing_Table() and an ip address as string.\n",
    "# the function should perform the longest prefix match between the ip and the reouting table\n",
    "# then the function should decide (return and print) the suitable interface to forward the packet with the input ip to.\n",
    "# the function should print the input routing table aswell\n",
    "# Your Code Starts Here \n"
   ]
  },
  {
   "cell_type": "code",
   "execution_count": null,
   "metadata": {},
   "outputs": [],
   "source": [
    "\n",
    "DL=Routing_Table()\n",
    "print(DL)\n"
   ]
  },
  {
   "cell_type": "markdown",
   "metadata": {},
   "source": [
    "test the function Routing_table() with the following test case \n",
    "\n",
    "number of interfaces=4\n",
    "\n",
    "Network1: 192.168.0.0/24  --> Serial0\n",
    "\n",
    "Network2: 192.168.0.0/16  --> Serial1\n",
    "\n",
    "Network3: 150.20.70.0/24  --> Default\n",
    "\n",
    "Network4: 170.200.30.192.0/26  --> Serial 2\n",
    "\n",
    "please note that the routing table should always contain a default entry \n"
   ]
  },
  {
   "cell_type": "code",
   "execution_count": null,
   "metadata": {},
   "outputs": [],
   "source": [
    "Forward(DL,'192.169.0.1')"
   ]
  },
  {
   "cell_type": "code",
   "execution_count": null,
   "metadata": {},
   "outputs": [],
   "source": [
    "Forward(DL,'192.169.50.1')"
   ]
  },
  {
   "cell_type": "code",
   "execution_count": null,
   "metadata": {},
   "outputs": [],
   "source": [
    "Forward(DL,'150.20.70.2')"
   ]
  },
  {
   "cell_type": "code",
   "execution_count": null,
   "metadata": {},
   "outputs": [],
   "source": [
    "Forward(DL,'190.169.0.1')"
   ]
  }
 ],
 "metadata": {
  "kernelspec": {
   "display_name": "Python 3",
   "language": "python",
   "name": "python3"
  },
  "language_info": {
   "codemirror_mode": {
    "name": "ipython",
    "version": 3
   },
   "file_extension": ".py",
   "mimetype": "text/x-python",
   "name": "python",
   "nbconvert_exporter": "python",
   "pygments_lexer": "ipython3",
   "version": "3.7.3"
  }
 },
 "nbformat": 4,
 "nbformat_minor": 2
}
