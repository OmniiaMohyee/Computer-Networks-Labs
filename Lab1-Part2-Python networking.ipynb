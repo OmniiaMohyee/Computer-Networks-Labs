{
 "cells": [
  {
   "cell_type": "markdown",
   "metadata": {},
   "source": [
    "---------------------------------------------------------------------------------------------------------------------------\n",
    "Part2\n",
    "---------------------------------------------------------------------------------\n",
    "## python networking "
   ]
  },
  {
   "cell_type": "markdown",
   "metadata": {},
   "source": [
    "###  In this Tutorial you will use the Module \"ipaddress\" that will help you to deal with ip addresses and network prefixes with more  ease.\n",
    "\n",
    " Firstly take a look on the documentation of the module in the pdf file attached, Then perform the following tasks "
   ]
  },
  {
   "cell_type": "code",
   "execution_count": 3,
   "metadata": {},
   "outputs": [
    {
     "name": "stdout",
     "output_type": "stream",
     "text": [
      "254\n",
      "255.255.255.0\n",
      "0.0.0.255\n",
      "24\n"
     ]
    }
   ],
   "source": [
    "#!pip install ipaddress\n",
    "import ipaddress\n",
    "# Code Starts Here \n",
    "# using the ipaddress module\n",
    "# 1-print the number of hosts in the network 192.168.70.0/24 (0.5 mark)\n",
    "# 2- print the network mask(prefix) of the network 192.168.70.0/24 in both formats (0.5 mark)\n",
    "# hint refer to the additional attribute section in the pdf\n",
    "\n",
    "network = ipaddress.ip_network(\"192.168.70.0/24\")\n",
    "no_hosts = 0;\n",
    "for x in network.hosts():\n",
    "    no_hosts +=1 \n",
    "#no_hosts =254.\n",
    "print(no_hosts)\n",
    "\n",
    "#not sure what the 2 mask \n",
    "print(network.netmask)\n",
    "print(network.hostmask)\n",
    "print(\"192.186.70.0/24\".split('/')[1])"
   ]
  },
  {
   "cell_type": "code",
   "execution_count": 4,
   "metadata": {},
   "outputs": [
    {
     "name": "stdout",
     "output_type": "stream",
     "text": [
      "192.168.70.1\n",
      "192.168.70.2\n",
      "192.168.70.3\n",
      "192.168.70.4\n",
      "192.168.70.5\n",
      "192.168.70.6\n",
      "192.168.70.7\n",
      "192.168.70.8\n",
      "192.168.70.9\n",
      "192.168.70.10\n",
      "192.168.70.11\n",
      "192.168.70.12\n",
      "192.168.70.13\n",
      "192.168.70.14\n",
      "192.168.70.15\n",
      "192.168.70.16\n",
      "192.168.70.17\n",
      "192.168.70.18\n",
      "192.168.70.19\n",
      "192.168.70.20\n",
      "192.168.70.21\n",
      "192.168.70.22\n",
      "192.168.70.23\n",
      "192.168.70.24\n",
      "192.168.70.25\n",
      "192.168.70.26\n",
      "192.168.70.27\n",
      "192.168.70.28\n",
      "192.168.70.29\n",
      "192.168.70.30\n",
      "192.168.70.31\n",
      "192.168.70.32\n",
      "192.168.70.33\n",
      "192.168.70.34\n",
      "192.168.70.35\n",
      "192.168.70.36\n",
      "192.168.70.37\n",
      "192.168.70.38\n",
      "192.168.70.39\n",
      "192.168.70.40\n",
      "192.168.70.41\n",
      "192.168.70.42\n",
      "192.168.70.43\n",
      "192.168.70.44\n",
      "192.168.70.45\n",
      "192.168.70.46\n",
      "192.168.70.47\n",
      "192.168.70.48\n",
      "192.168.70.49\n",
      "192.168.70.50\n",
      "192.168.70.51\n",
      "192.168.70.52\n",
      "192.168.70.53\n",
      "192.168.70.54\n",
      "192.168.70.55\n",
      "192.168.70.56\n",
      "192.168.70.57\n",
      "192.168.70.58\n",
      "192.168.70.59\n",
      "192.168.70.60\n",
      "192.168.70.61\n",
      "192.168.70.62\n",
      "192.168.70.63\n",
      "192.168.70.64\n",
      "192.168.70.65\n",
      "192.168.70.66\n",
      "192.168.70.67\n",
      "192.168.70.68\n",
      "192.168.70.69\n",
      "192.168.70.70\n",
      "192.168.70.71\n",
      "192.168.70.72\n",
      "192.168.70.73\n",
      "192.168.70.74\n",
      "192.168.70.75\n",
      "192.168.70.76\n",
      "192.168.70.77\n",
      "192.168.70.78\n",
      "192.168.70.79\n",
      "192.168.70.80\n",
      "192.168.70.81\n",
      "192.168.70.82\n",
      "192.168.70.83\n",
      "192.168.70.84\n",
      "192.168.70.85\n",
      "192.168.70.86\n",
      "192.168.70.87\n",
      "192.168.70.88\n",
      "192.168.70.89\n",
      "192.168.70.90\n",
      "192.168.70.91\n",
      "192.168.70.92\n",
      "192.168.70.93\n",
      "192.168.70.94\n",
      "192.168.70.95\n",
      "192.168.70.96\n",
      "192.168.70.97\n",
      "192.168.70.98\n",
      "192.168.70.99\n",
      "192.168.70.100\n",
      "192.168.70.101\n",
      "192.168.70.102\n",
      "192.168.70.103\n",
      "192.168.70.104\n",
      "192.168.70.105\n",
      "192.168.70.106\n",
      "192.168.70.107\n",
      "192.168.70.108\n",
      "192.168.70.109\n",
      "192.168.70.110\n",
      "192.168.70.111\n",
      "192.168.70.112\n",
      "192.168.70.113\n",
      "192.168.70.114\n",
      "192.168.70.115\n",
      "192.168.70.116\n",
      "192.168.70.117\n",
      "192.168.70.118\n",
      "192.168.70.119\n",
      "192.168.70.120\n",
      "192.168.70.121\n",
      "192.168.70.122\n",
      "192.168.70.123\n",
      "192.168.70.124\n",
      "192.168.70.125\n",
      "192.168.70.126\n",
      "192.168.70.127\n",
      "192.168.70.128\n",
      "192.168.70.129\n",
      "192.168.70.130\n",
      "192.168.70.131\n",
      "192.168.70.132\n",
      "192.168.70.133\n",
      "192.168.70.134\n",
      "192.168.70.135\n",
      "192.168.70.136\n",
      "192.168.70.137\n",
      "192.168.70.138\n",
      "192.168.70.139\n",
      "192.168.70.140\n",
      "192.168.70.141\n",
      "192.168.70.142\n",
      "192.168.70.143\n",
      "192.168.70.144\n",
      "192.168.70.145\n",
      "192.168.70.146\n",
      "192.168.70.147\n",
      "192.168.70.148\n",
      "192.168.70.149\n",
      "192.168.70.150\n",
      "192.168.70.151\n",
      "192.168.70.152\n",
      "192.168.70.153\n",
      "192.168.70.154\n",
      "192.168.70.155\n",
      "192.168.70.156\n",
      "192.168.70.157\n",
      "192.168.70.158\n",
      "192.168.70.159\n",
      "192.168.70.160\n",
      "192.168.70.161\n",
      "192.168.70.162\n",
      "192.168.70.163\n",
      "192.168.70.164\n",
      "192.168.70.165\n",
      "192.168.70.166\n",
      "192.168.70.167\n",
      "192.168.70.168\n",
      "192.168.70.169\n",
      "192.168.70.170\n",
      "192.168.70.171\n",
      "192.168.70.172\n",
      "192.168.70.173\n",
      "192.168.70.174\n",
      "192.168.70.175\n",
      "192.168.70.176\n",
      "192.168.70.177\n",
      "192.168.70.178\n",
      "192.168.70.179\n",
      "192.168.70.180\n",
      "192.168.70.181\n",
      "192.168.70.182\n",
      "192.168.70.183\n",
      "192.168.70.184\n",
      "192.168.70.185\n",
      "192.168.70.186\n",
      "192.168.70.187\n",
      "192.168.70.188\n",
      "192.168.70.189\n",
      "192.168.70.190\n",
      "192.168.70.191\n",
      "192.168.70.192\n",
      "192.168.70.193\n",
      "192.168.70.194\n",
      "192.168.70.195\n",
      "192.168.70.196\n",
      "192.168.70.197\n",
      "192.168.70.198\n",
      "192.168.70.199\n",
      "192.168.70.200\n",
      "192.168.70.201\n",
      "192.168.70.202\n",
      "192.168.70.203\n",
      "192.168.70.204\n",
      "192.168.70.205\n",
      "192.168.70.206\n",
      "192.168.70.207\n",
      "192.168.70.208\n",
      "192.168.70.209\n",
      "192.168.70.210\n",
      "192.168.70.211\n",
      "192.168.70.212\n",
      "192.168.70.213\n",
      "192.168.70.214\n",
      "192.168.70.215\n",
      "192.168.70.216\n",
      "192.168.70.217\n",
      "192.168.70.218\n",
      "192.168.70.219\n",
      "192.168.70.220\n",
      "192.168.70.221\n",
      "192.168.70.222\n",
      "192.168.70.223\n",
      "192.168.70.224\n",
      "192.168.70.225\n",
      "192.168.70.226\n",
      "192.168.70.227\n",
      "192.168.70.228\n",
      "192.168.70.229\n",
      "192.168.70.230\n",
      "192.168.70.231\n",
      "192.168.70.232\n",
      "192.168.70.233\n",
      "192.168.70.234\n",
      "192.168.70.235\n",
      "192.168.70.236\n",
      "192.168.70.237\n",
      "192.168.70.238\n",
      "192.168.70.239\n",
      "192.168.70.240\n",
      "192.168.70.241\n",
      "192.168.70.242\n",
      "192.168.70.243\n",
      "192.168.70.244\n",
      "192.168.70.245\n",
      "192.168.70.246\n",
      "192.168.70.247\n",
      "192.168.70.248\n",
      "192.168.70.249\n",
      "192.168.70.250\n",
      "192.168.70.251\n",
      "192.168.70.252\n",
      "192.168.70.253\n",
      "192.168.70.254\n"
     ]
    }
   ],
   "source": [
    "# 2-print the hosts in the network 192.168.70.0/24 (0.5 mark)\n",
    "for x in network.hosts():\n",
    "    print(x)"
   ]
  },
  {
   "cell_type": "code",
   "execution_count": 5,
   "metadata": {},
   "outputs": [
    {
     "name": "stdout",
     "output_type": "stream",
     "text": [
      "1\n"
     ]
    },
    {
     "ename": "ValueError",
     "evalue": "'1' does not appear to be an IPv4 or IPv6 interface",
     "output_type": "error",
     "traceback": [
      "\u001b[0;31m---------------------------------------------------------------------------\u001b[0m",
      "\u001b[0;31mValueError\u001b[0m                                Traceback (most recent call last)",
      "\u001b[0;32m<ipython-input-5-0384d55e6615>\u001b[0m in \u001b[0;36m<module>\u001b[0;34m\u001b[0m\n\u001b[1;32m      6\u001b[0m \u001b[0;34m\u001b[0m\u001b[0m\n\u001b[1;32m      7\u001b[0m \u001b[0;34m\u001b[0m\u001b[0m\n\u001b[0;32m----> 8\u001b[0;31m \u001b[0mhost_in\u001b[0m \u001b[0;34m=\u001b[0m \u001b[0mipaddress\u001b[0m\u001b[0;34m.\u001b[0m\u001b[0mip_interface\u001b[0m\u001b[0;34m(\u001b[0m\u001b[0mip_address\u001b[0m\u001b[0;34m)\u001b[0m\u001b[0;34m\u001b[0m\u001b[0;34m\u001b[0m\u001b[0m\n\u001b[0m\u001b[1;32m      9\u001b[0m \u001b[0mhost\u001b[0m \u001b[0;34m=\u001b[0m \u001b[0mipaddress\u001b[0m\u001b[0;34m.\u001b[0m\u001b[0mip_interface\u001b[0m\u001b[0;34m(\u001b[0m\u001b[0;34m\"192.168.70.0/24\"\u001b[0m\u001b[0;34m)\u001b[0m\u001b[0;34m\u001b[0m\u001b[0;34m\u001b[0m\u001b[0m\n\u001b[1;32m     10\u001b[0m \u001b[0;32mif\u001b[0m\u001b[0;34m(\u001b[0m\u001b[0mstr\u001b[0m\u001b[0;34m(\u001b[0m\u001b[0mhost_in\u001b[0m\u001b[0;34m.\u001b[0m\u001b[0mnetwork\u001b[0m\u001b[0;34m)\u001b[0m \u001b[0;34m==\u001b[0m \u001b[0mstr\u001b[0m\u001b[0;34m(\u001b[0m\u001b[0mhost\u001b[0m\u001b[0;34m.\u001b[0m\u001b[0mnetwork\u001b[0m\u001b[0;34m)\u001b[0m\u001b[0;34m)\u001b[0m\u001b[0;34m:\u001b[0m\u001b[0;34m\u001b[0m\u001b[0;34m\u001b[0m\u001b[0m\n",
      "\u001b[0;32m/usr/lib/python3.6/ipaddress.py\u001b[0m in \u001b[0;36mip_interface\u001b[0;34m(address)\u001b[0m\n\u001b[1;32m    117\u001b[0m \u001b[0;34m\u001b[0m\u001b[0m\n\u001b[1;32m    118\u001b[0m     raise ValueError('%r does not appear to be an IPv4 or IPv6 interface' %\n\u001b[0;32m--> 119\u001b[0;31m                      address)\n\u001b[0m\u001b[1;32m    120\u001b[0m \u001b[0;34m\u001b[0m\u001b[0m\n\u001b[1;32m    121\u001b[0m \u001b[0;34m\u001b[0m\u001b[0m\n",
      "\u001b[0;31mValueError\u001b[0m: '1' does not appear to be an IPv4 or IPv6 interface"
     ]
    }
   ],
   "source": [
    "# 3-take an ip address from the user and check and prints a message indicating wether\n",
    "# this address belongs to the network 192.168.70.0/24 or not (0.5 mark)\n",
    "\n",
    "ip_address = input()\n",
    "input_network = 0\n",
    "    \n",
    "\n",
    "host_in = ipaddress.ip_interface(ip_address)\n",
    "host = ipaddress.ip_interface(\"192.168.70.0/24\")\n",
    "if(str(host_in.network) == str(host.network)):\n",
    "    print(\"The IP address belongs to the network 192.168.70.0/24\")\n",
    "else:\n",
    "    print(\"The IP address doesn't belong to the network 192.168.70.0/24\")"
   ]
  },
  {
   "cell_type": "code",
   "execution_count": 62,
   "metadata": {},
   "outputs": [
    {
     "name": "stdout",
     "output_type": "stream",
     "text": [
      "1\n",
      "1\n",
      "1\n"
     ]
    },
    {
     "data": {
      "text/plain": [
       "{'1': '1'}"
      ]
     },
     "execution_count": 62,
     "metadata": {},
     "output_type": "execute_result"
    }
   ],
   "source": [
    "# 4- define function Routing_Table() (4 marks)\n",
    "# the function returns and (prints) the routing table as a list of networks and relatve egress interfaces\n",
    "# the function should aske the user for the number of required interfaces first \n",
    "# then it asks the user to fill them accordingly \n",
    "# if the user entered the character 'd' as an egress interface then the function set this as default interface \n",
    "# in all cases the routing table should contain a default egress interface\n",
    "# Your Code Starts Here \n",
    "\n",
    "def Routing_Table():\n",
    "    no_interfaces = int(input())\n",
    "    interfaces = dict()\n",
    "    for i in range(no_interfaces):\n",
    "        network = input()\n",
    "        egress_interface = input()\n",
    "        interfaces[network] = egress_interface\n",
    "    return interfaces\n",
    "Routing_Table()  "
   ]
  },
  {
   "cell_type": "code",
   "execution_count": 51,
   "metadata": {},
   "outputs": [],
   "source": [
    "# 5- define function Forward() (4 marks)\n",
    "# the function takes as input the routing table as returend from function Routing_Table() and an ip address as string.\n",
    "# the function should perform the longest prefix match between the ip and the reouting table\n",
    "# then the function should decide (return and print) the suitable interface to forward the packet with the input ip to.\n",
    "# the function should print the input routing table aswell\n",
    "# Your Code Starts Here \n",
    "\n",
    "def Forward(routing_table,ip_address):\n",
    "    n = len(routing_table)\n",
    "    adds = list(routing_table.keys())\n",
    "    l = 0\n",
    "    maximum = 0\n",
    "    return_net = 0\n",
    "    flag = False\n",
    "    for i in range(n-1):\n",
    "        network = adds[i]\n",
    "        if ipaddress.ip_address(ip_address) in ipaddress.ip_network(network):\n",
    "            flag = True\n",
    "            n,l = network.split('/')\n",
    "            print(l)\n",
    "            if(int(l) > maximum):\n",
    "                maximum = int(l)\n",
    "                return_net = network\n",
    "    if(flag):\n",
    "        return routing_table[return_net]\n",
    "    else:\n",
    "        return routing_table['d']"
   ]
  },
  {
   "cell_type": "code",
   "execution_count": 57,
   "metadata": {},
   "outputs": [
    {
     "name": "stdout",
     "output_type": "stream",
     "text": [
      "{'192.168.0.0/24': 'Serial 0', '192.168.0.0/16': 'Serial 1', '170.200.30.192/26': 'Serial 2', '150.20.0.0/16': 'Default', '150.20.70.0/24': 'Default2', 'd': 'Default'}\n"
     ]
    }
   ],
   "source": [
    "DL = Routing_Table()\n",
    "\n",
    "print(DL)"
   ]
  },
  {
   "cell_type": "markdown",
   "metadata": {},
   "source": [
    "\n",
    "DL=Routing_Table()\n",
    "print(DL)\n"
   ]
  },
  {
   "cell_type": "markdown",
   "metadata": {},
   "source": [
    "test the function Routing_table() with the following test case \n",
    "\n",
    "number of interfaces=4\n",
    "\n",
    "Network1: 192.168.0.0/24  --> Serial0\n",
    "\n",
    "Network2: 192.168.0.0/16  --> Serial1\n",
    "\n",
    "Network3: 150.20.70.0/24  --> Default\n",
    "\n",
    "Network4: 170.200.30.192.0/26  --> Serial 2\n",
    "\n",
    "please note that the routing table should always contain a default entry \n"
   ]
  },
  {
   "cell_type": "code",
   "execution_count": 58,
   "metadata": {},
   "outputs": [
    {
     "data": {
      "text/plain": [
       "'Default'"
      ]
     },
     "execution_count": 58,
     "metadata": {},
     "output_type": "execute_result"
    }
   ],
   "source": [
    "Forward(DL,'192.169.0.1')"
   ]
  },
  {
   "cell_type": "code",
   "execution_count": 59,
   "metadata": {},
   "outputs": [
    {
     "data": {
      "text/plain": [
       "'Default'"
      ]
     },
     "execution_count": 59,
     "metadata": {},
     "output_type": "execute_result"
    }
   ],
   "source": [
    "Forward(DL,'192.169.50.1')"
   ]
  },
  {
   "cell_type": "code",
   "execution_count": 60,
   "metadata": {},
   "outputs": [
    {
     "name": "stdout",
     "output_type": "stream",
     "text": [
      "here\n",
      "Default\n"
     ]
    },
    {
     "data": {
      "text/plain": [
       "'Default'"
      ]
     },
     "execution_count": 60,
     "metadata": {},
     "output_type": "execute_result"
    }
   ],
   "source": [
    "Forward(DL,'150.20.70.2')"
   ]
  },
  {
   "cell_type": "code",
   "execution_count": 61,
   "metadata": {},
   "outputs": [
    {
     "data": {
      "text/plain": [
       "'Default'"
      ]
     },
     "execution_count": 61,
     "metadata": {},
     "output_type": "execute_result"
    }
   ],
   "source": [
    "Forward(DL,'190.169.0.1')"
   ]
  },
  {
   "cell_type": "code",
   "execution_count": null,
   "metadata": {},
   "outputs": [],
   "source": []
  }
 ],
 "metadata": {
  "kernelspec": {
   "display_name": "Python 3",
   "language": "python",
   "name": "python3"
  },
  "language_info": {
   "codemirror_mode": {
    "name": "ipython",
    "version": 3
   },
   "file_extension": ".py",
   "mimetype": "text/x-python",
   "name": "python",
   "nbconvert_exporter": "python",
   "pygments_lexer": "ipython3",
   "version": "3.6.9"
  }
 },
 "nbformat": 4,
 "nbformat_minor": 2
}
