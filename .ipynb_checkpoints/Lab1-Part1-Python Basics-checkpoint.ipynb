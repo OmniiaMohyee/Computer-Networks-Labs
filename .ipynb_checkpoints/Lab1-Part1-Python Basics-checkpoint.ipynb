{
 "cells": [
  {
   "cell_type": "markdown",
   "metadata": {},
   "source": [
    "in this part, we revise the basic python syntax required for completing the lab , if you are familiar with paython, feel free to skip this part and start with part2 directly \n"
   ]
  },
  {
   "cell_type": "markdown",
   "metadata": {},
   "source": [
    "---------------------------------------------------------------------------------------------------------------------------\n",
    "## 1- DataTypes\n",
    "\n",
    "As you may know python is a dynamically typed programming language , i.e you dont need to define the data types of the variables before using them. Run the following cell and notice the type of variable a.\n"
   ]
  },
  {
   "cell_type": "code",
   "execution_count": 19,
   "metadata": {},
   "outputs": [
    {
     "name": "stdout",
     "output_type": "stream",
     "text": [
      "5 is of type <class 'int'>\n",
      "2.0 is of type <class 'float'>\n",
      "2 is of type <class 'int'>\n",
      "(1+2j) is complex number? True\n",
      "s[4] =  o\n",
      "s[6:11] =  world\n"
     ]
    },
    {
     "ename": "TypeError",
     "evalue": "'str' object does not support item assignment",
     "output_type": "error",
     "traceback": [
      "\u001b[1;31m---------------------------------------------------------------------------\u001b[0m",
      "\u001b[1;31mTypeError\u001b[0m                                 Traceback (most recent call last)",
      "\u001b[1;32m<ipython-input-19-c6e1b2f515ad>\u001b[0m in \u001b[0;36m<module>\u001b[1;34m\u001b[0m\n\u001b[0;32m     23\u001b[0m \u001b[1;31m# Generates error\u001b[0m\u001b[1;33m\u001b[0m\u001b[1;33m\u001b[0m\u001b[1;33m\u001b[0m\u001b[0m\n\u001b[0;32m     24\u001b[0m \u001b[1;31m# Strings are immutable in Python\u001b[0m\u001b[1;33m\u001b[0m\u001b[1;33m\u001b[0m\u001b[1;33m\u001b[0m\u001b[0m\n\u001b[1;32m---> 25\u001b[1;33m \u001b[0ms\u001b[0m\u001b[1;33m[\u001b[0m\u001b[1;36m5\u001b[0m\u001b[1;33m]\u001b[0m \u001b[1;33m=\u001b[0m\u001b[1;34m'd'\u001b[0m\u001b[1;33m\u001b[0m\u001b[1;33m\u001b[0m\u001b[0m\n\u001b[0m",
      "\u001b[1;31mTypeError\u001b[0m: 'str' object does not support item assignment"
     ]
    }
   ],
   "source": [
    "a = 5\n",
    "print(a, \"is of type\", type(a))\n",
    "\n",
    "a = 2.0\n",
    "print(a, \"is of type\", type(a))\n",
    "\n",
    "c= int(a)\n",
    "print(c, \"is of type\", type(c))\n",
    "\n",
    "a = 1+2j\n",
    "print(a, \"is complex number?\", isinstance(1+2j,complex))\n",
    "\n",
    "#python strings \n",
    "#note that python strings are immutable \n",
    "s = 'Hello world!'\n",
    "\n",
    "# s[4] = 'o'\n",
    "print(\"s[4] = \", s[4])\n",
    "\n",
    "# s[6:11] = 'world'\n",
    "print(\"s[6:11] = \", s[6:11])\n",
    "\n",
    "# Generates error\n",
    "# Strings are immutable in Python\n",
    "s[5] ='d'"
   ]
  },
  {
   "cell_type": "markdown",
   "metadata": {},
   "source": [
    "---------------------------------------------------------------------------------------------------------------------------\n",
    "## 2- Lists\n",
    "\n",
    "Defining a list in python is very simple and you dont have to worry about the size.\n",
    "Run the following cell that defins different types of lists."
   ]
  },
  {
   "cell_type": "code",
   "execution_count": 11,
   "metadata": {},
   "outputs": [
    {
     "name": "stdout",
     "output_type": "stream",
     "text": [
      "a[2] =  15\n",
      "a[0:3] =  [5, 10, 15]\n",
      "a[5:] =  [30, 35, 40]\n",
      "a =  [5, 10, 15, 20, 25, 30, 35, 40, 100]\n",
      "data =  [['name1', 'long name1', 1, 2, 3], ['name2', 'long name2', 5, 6, 7]]\n",
      "sum of b =  15\n",
      "max element in b =  5\n"
     ]
    }
   ],
   "source": [
    "a = [5,10,15,20,25,30,35,40]\n",
    "\n",
    "# a[2] = 15\n",
    "print(\"a[2] = \", a[2])\n",
    "\n",
    "# a[0:3] = [5, 10, 15]\n",
    "print(\"a[0:3] = \", a[0:3])\n",
    "\n",
    "# a[5:] = [30, 35, 40]\n",
    "print(\"a[5:] = \", a[5:])\n",
    "\n",
    "#you can append item to a list \n",
    "a.append(100)\n",
    "print(\"a = \",a)\n",
    "\n",
    "#note that you can mix types in the same list\n",
    "#list of lists \n",
    "data = [[\"name1\", \"long name1\", 1, 2, 3],\n",
    "        [\"name2\", \"long name2\", 5, 6, 7]]\n",
    "\n",
    "print(\"data = \",data)\n",
    "\n",
    "# you can also perform different functionalities like sum(), count(), index(), min() and max() on lists as follows\n",
    "b=[1,2,3,4,5]\n",
    "\n",
    "b_sum= sum(b)\n",
    "print(\"sum of b = \", b_sum)\n",
    "\n",
    "b_max= max(b)\n",
    "print(\"max element in b = \", b_max)\n",
    "#hint you  can press shift+left tap "
   ]
  },
  {
   "cell_type": "markdown",
   "metadata": {},
   "source": [
    "---------------------------------------------------------------------------------------------------------------------------\n",
    "## 3- Dictionary\n",
    "\n",
    "the ptython dictionary is one of the most useful data types , it is used for grouping data in key and value pairs  "
   ]
  },
  {
   "cell_type": "code",
   "execution_count": 18,
   "metadata": {},
   "outputs": [
    {
     "name": "stdout",
     "output_type": "stream",
     "text": [
      "thisdict :  {'brand': 'Ford', 'model': 'Mustang', 'year': 1964, 3: 'three'}\n",
      "x:  Mustang\n",
      "three\n",
      "thisdict :  {'brand': 'Ford', 'model': 'Mustang', 'year': 2020, 3: 'three'}\n"
     ]
    }
   ],
   "source": [
    "#you can define key and value pairs of different types and numbers \n",
    "thisdict = {\n",
    "  \"brand\": \"Ford\",\n",
    "  \"model\": \"Mustang\",\n",
    "  \"year\": 1964, \n",
    "   3: \"three\"\n",
    "}\n",
    "print(\"thisdict : \", thisdict)\n",
    "\n",
    "#accessability \n",
    "x = thisdict[\"model\"]\n",
    "print (\"x: \",x)\n",
    "\n",
    "print(thisdict[3])\n",
    "\n",
    "#mutability\n",
    "thisdict[\"year\"]= 2020\n",
    "print(\"thisdict : \", thisdict)\n",
    "\n"
   ]
  },
  {
   "cell_type": "markdown",
   "metadata": {},
   "source": [
    "---------------------------------------------------------------------------------------------------------------------------\n",
    "## 4- Control flow\n",
    "\n",
    "if else statements in python can be written as follows, note that the identation is very important to determine the statement scope and is used insteade of brackets in c '{' , ' }' ."
   ]
  },
  {
   "cell_type": "code",
   "execution_count": 21,
   "metadata": {},
   "outputs": [
    {
     "name": "stdout",
     "output_type": "stream",
     "text": [
      "3 is a positive number.\n",
      "This is always printed.\n",
      "-1 is a negative number grater than -50 .\n"
     ]
    }
   ],
   "source": [
    "# If the number is positive, we print an appropriate message\n",
    "\n",
    "num = 3\n",
    "if num > 0:\n",
    "    print(num, \"is a positive number.\")\n",
    "print(\"This is always printed.\")\n",
    "\n",
    "num = -1\n",
    "if num > 0:\n",
    "    print(num, \"is a positive number.\")\n",
    "elif num <0 and num >-50:\n",
    "    print(num, \"is a negative number grater than -50 .\")\n",
    "else: \n",
    "    print(num, \"is a negative number less than -50 .\")"
   ]
  },
  {
   "cell_type": "markdown",
   "metadata": {},
   "source": [
    "---------------------------------------------------------------------------------------------------------------------------\n",
    "\n",
    "### For loops are way easier in python, consider the following examples for different types of iterators "
   ]
  },
  {
   "cell_type": "code",
   "execution_count": 40,
   "metadata": {},
   "outputs": [
    {
     "name": "stdout",
     "output_type": "stream",
     "text": [
      "The sum is 48\n",
      "x exists in numbers \n"
     ]
    }
   ],
   "source": [
    "# Program to find the sum of all numbers stored in a list\n",
    "\n",
    "# List of numbers\n",
    "numbers = [6, 5, 3, 8, 4, 2, 5, 4, 11]\n",
    "\n",
    "# variable to store the sum\n",
    "sum = 0\n",
    "\n",
    "# iterate over the list\n",
    "for val in numbers:\n",
    "    sum = sum+val\n",
    "\n",
    "# Output: The sum is 48\n",
    "print(\"The sum is\", sum)\n",
    "\n",
    "\n",
    "# you can also search for items in list using the in keyword\n",
    "numbers = [6, 5, 3, 8, 4, 2, 5, 4, 11]\n",
    "x=2\n",
    "if x in numbers:\n",
    "    print(\"x exists in numbers \")\n",
    "else:\n",
    "    print(\"x does not exist in numbers\")"
   ]
  },
  {
   "cell_type": "code",
   "execution_count": 24,
   "metadata": {},
   "outputs": [
    {
     "name": "stdout",
     "output_type": "stream",
     "text": [
      "range(0, 10)\n",
      "[0, 1, 2, 3, 4, 5, 6, 7, 8, 9]\n"
     ]
    }
   ],
   "source": [
    "#note the following range function \n",
    "print(range(10))\n",
    "print(list(range(10)))"
   ]
  },
  {
   "cell_type": "markdown",
   "metadata": {},
   "source": [
    "We can use the range() function in for loops to iterate through a sequence of numbers. It can be combined with the len() function to iterate though a sequence using indexing. Here is an example."
   ]
  },
  {
   "cell_type": "code",
   "execution_count": 30,
   "metadata": {},
   "outputs": [
    {
     "name": "stdout",
     "output_type": "stream",
     "text": [
      "I like pop\n",
      "I like rock\n",
      "I like jazz\n",
      "-------------------------------\n",
      "I like pop\n",
      "I like rock\n",
      "I like jazz\n",
      "-------------------------------\n",
      "I like pop\n",
      "I like rock\n",
      "I like jazz\n"
     ]
    }
   ],
   "source": [
    "# Program to iterate through a list using indexing\n",
    "\n",
    "genre = ['pop', 'rock', 'jazz']\n",
    "\n",
    "# iterate over the list using index\n",
    "for i in range(len(genre)):\n",
    "    print(\"I like\", genre[i])\n",
    "print(\"-------------------------------\")\n",
    "\n",
    "#same effect as \n",
    "for i in range(0,3):\n",
    "    print(\"I like\", genre[i])\n",
    "print(\"-------------------------------\")\n",
    "\n",
    "#same effect as \n",
    "for i in range(3):\n",
    "    print(\"I like\", genre[i])"
   ]
  },
  {
   "cell_type": "markdown",
   "metadata": {},
   "source": [
    "---------------------------------------------------------------------------------------------------------------------------\n",
    "## 5- python functions\n",
    "\n",
    "functions in python can be defined in the following syntax:\n",
    "\n",
    "def function_name(i_parameter1, i_parameter2, ......... , i_parametern):\n",
    "\t\n",
    "    statement(1)\n",
    "    \n",
    "    statement(2)\n",
    "    \n",
    "    statement(3)\n",
    "    \n",
    "    .........\n",
    "    \n",
    "    statement(n)\n",
    "    \n",
    "    return r_parameter1, r_parameter2, ......., r_parametern"
   ]
  },
  {
   "cell_type": "code",
   "execution_count": 33,
   "metadata": {},
   "outputs": [
    {
     "name": "stdout",
     "output_type": "stream",
     "text": [
      "2\n",
      "4\n"
     ]
    }
   ],
   "source": [
    "def absolute_value(num):\n",
    "    \"\"\"This function returns the absolute\n",
    "    value of the entered number\"\"\"\n",
    "\n",
    "    if num >= 0:\n",
    "        return num\n",
    "    else:\n",
    "        return -num\n",
    "\n",
    "# function call : 2\n",
    "print(absolute_value(2))\n",
    "\n",
    "# function call : -4\n",
    "print(absolute_value(-4))"
   ]
  },
  {
   "cell_type": "code",
   "execution_count": 41,
   "metadata": {},
   "outputs": [
    {
     "name": "stdout",
     "output_type": "stream",
     "text": [
      "Please enter a string:\n",
      "hello\n",
      "you entered  hello\n"
     ]
    }
   ],
   "source": [
    "# to get value from user use the function input \n",
    "value = input(\"Please enter a string:\\n\")\n",
    "# to print value to the user use the function print\n",
    "print(\"you entered \", value)"
   ]
  },
  {
   "cell_type": "code",
   "execution_count": null,
   "metadata": {},
   "outputs": [],
   "source": []
  }
 ],
 "metadata": {
  "kernelspec": {
   "display_name": "Python 3",
   "language": "python",
   "name": "python3"
  },
  "language_info": {
   "codemirror_mode": {
    "name": "ipython",
    "version": 3
   },
   "file_extension": ".py",
   "mimetype": "text/x-python",
   "name": "python",
   "nbconvert_exporter": "python",
   "pygments_lexer": "ipython3",
   "version": "3.6.9"
  }
 },
 "nbformat": 4,
 "nbformat_minor": 2
}
